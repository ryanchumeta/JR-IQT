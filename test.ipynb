{
 "cells": [
  {
   "cell_type": "code",
   "execution_count": 1,
   "metadata": {},
   "outputs": [
    {
     "name": "stdout",
     "output_type": "stream",
     "text": [
      "Connection to stage\n",
      "looking for ports\n",
      "COM5\n",
      "NoDeviceFoundException: Cannot find any device on the port. Make sure that you have opened correct port and devices are powered on.\n",
      "COM6\n",
      "Connected to stage!\n",
      "40.8\n"
     ]
    }
   ],
   "source": [
    "from Devices.zaberClass import Zaber\n",
    "\n",
    "if __name__ == \"__main__\":\n",
    "    zaber = Zaber()\n",
    "    \n",
    "    print(zaber.get_current_position(2))\n",
    "    # zaber.closeConnection()"
   ]
  },
  {
   "cell_type": "code",
   "execution_count": 3,
   "metadata": {},
   "outputs": [
    {
     "name": "stdout",
     "output_type": "stream",
     "text": [
      "moving axis 0 by -5 mm\n"
     ]
    }
   ],
   "source": [
    "zaber.move_relative(0,-5)"
   ]
  },
  {
   "cell_type": "code",
   "execution_count": 4,
   "metadata": {},
   "outputs": [],
   "source": [
    "zaber.closeConnection()"
   ]
  },
  {
   "cell_type": "code",
   "execution_count": null,
   "metadata": {},
   "outputs": [
    {
     "name": "stdout",
     "output_type": "stream",
     "text": [
      "{'logfile': 'C:/Users/ryanchu/Documents/projects/zaberStage/logfile.txt', 'Positions': {'Home': [0, 0, 0], 'Center': [50, 25, 25], 'Hypernova_Center': [50, 25, 25]}, 'Pupil_locations': {'pupil_1': [-4.5, -4.5, 0], 'pupil_2': [0, -4.5, 0], 'pupil_3': [4.5, -4.5, 0], 'pupil_4': [-4.5, 0, 0], 'pupil_5': [0, 0, 0], 'pupil_6': [4.5, 0, 0], 'pupil_7': [-4.5, 4.5, 0], 'pupil_8': [0, 4.5, 0], 'pupil_9': [4.5, 4.5, 0]}}\n"
     ]
    }
   ],
   "source": [
    "import json\n",
    "\n",
    "with open(r\"C:/Users/ryanchu/Documents/projects/zaberStage/config/JRIQT.json\",'r') as f:\n",
    "    config = json.load(f)\n",
    "print(config)"
   ]
  },
  {
   "cell_type": "code",
   "execution_count": null,
   "metadata": {},
   "outputs": [],
   "source": [
    "import json\n",
    "import pprint\n",
    "with open(r\"C:/Users/ryanchu/Documents/projects/zaberStage/config/JRIQT_recipe.json\",'r') as f:\n",
    "    recipes = json.load(f)\n",
    "pprint.pprint(recipes)"
   ]
  },
  {
   "cell_type": "code",
   "execution_count": 1,
   "metadata": {},
   "outputs": [
    {
     "name": "stdout",
     "output_type": "stream",
     "text": [
      "Display is set to 1000 nits of brightness \n",
      "\n",
      "push image\n"
     ]
    }
   ],
   "source": [
    "from Devices.HypernovaP1 import HypernovaP1 as HN\n",
    "\n",
    "hn = HN(\"images\")\n",
    "hn.display_image('green.png')"
   ]
  },
  {
   "cell_type": "code",
   "execution_count": null,
   "metadata": {},
   "outputs": [
    {
     "name": "stdout",
     "output_type": "stream",
     "text": [
      "pushing C:/Users/ryanchu/Documents/projects/zaberStage/images\\green.png\n",
      "pushing C:/Users/ryanchu/Documents/projects/zaberStage/images\\green.png\n",
      "pushing C:/Users/ryanchu/Documents/projects/zaberStage/images\\green.png\n",
      "start activity\n",
      "start activity\n",
      "start activity\n"
     ]
    }
   ],
   "source": []
  }
 ],
 "metadata": {
  "kernelspec": {
   "display_name": "Python 3",
   "language": "python",
   "name": "python3"
  },
  "language_info": {
   "codemirror_mode": {
    "name": "ipython",
    "version": 3
   },
   "file_extension": ".py",
   "mimetype": "text/x-python",
   "name": "python",
   "nbconvert_exporter": "python",
   "pygments_lexer": "ipython3",
   "version": "3.12.0"
  }
 },
 "nbformat": 4,
 "nbformat_minor": 2
}
